{
 "cells": [
  {
   "cell_type": "markdown",
   "id": "84fe99b5",
   "metadata": {},
   "source": [
    "Finding third side of right angle traingle"
   ]
  },
  {
   "cell_type": "code",
   "execution_count": 3,
   "id": "97ee1349",
   "metadata": {},
   "outputs": [
    {
     "name": "stdout",
     "output_type": "stream",
     "text": [
      "enter side 1 length =4\n",
      "enter side 2 length =5\n",
      "length of side 3= 6\n"
     ]
    }
   ],
   "source": [
    "side1=int(input('enter side 1 length ='))\n",
    "side2=int(input('enter side 2 length ='))\n",
    "side3=((side1**2)+(side2**2))**(1/2)\n",
    "print(\"length of side 3=\",int(side3))"
   ]
  },
  {
   "cell_type": "markdown",
   "id": "16dbe6e1",
   "metadata": {},
   "source": [
    "factorial of the number"
   ]
  },
  {
   "cell_type": "code",
   "execution_count": 7,
   "id": "1d23de42",
   "metadata": {},
   "outputs": [
    {
     "name": "stdout",
     "output_type": "stream",
     "text": [
      "enter the number=5\n",
      "factorial of 5 is= 120\n"
     ]
    }
   ],
   "source": [
    "num=int(input(\"enter the number=\"))\n",
    "factorial=1\n",
    "for i in range(1,num+1):\n",
    "    factorial=factorial*i\n",
    "print(\"factorial of\",num,\"is=\",factorial)"
   ]
  },
  {
   "cell_type": "markdown",
   "id": "58934148",
   "metadata": {},
   "source": [
    "number is prime or composite"
   ]
  },
  {
   "cell_type": "code",
   "execution_count": null,
   "id": "6f1ee695",
   "metadata": {},
   "outputs": [],
   "source": [
    "num=int(input(\"enter the number\"))\n",
    "if(num==0 or num==1 ):\n",
    "    print(num,\"no is neither prime nor composite\")\n",
    "elif num>1:\n",
    "    for i in range(2,num):\n",
    "        if(num%i==0):\n",
    "            print(num,\"is composite\")\n",
    "            break\n",
    "        else:\n",
    "            print(\"number is prime\")           \n",
    "else:\n",
    "    print(\"please enter positive number\")"
   ]
  },
  {
   "cell_type": "markdown",
   "id": "4033b50a",
   "metadata": {},
   "source": [
    "string is palindrome or not."
   ]
  },
  {
   "cell_type": "code",
   "execution_count": 17,
   "id": "64834d9f",
   "metadata": {},
   "outputs": [
    {
     "name": "stdout",
     "output_type": "stream",
     "text": [
      " enter the string=sapana\n",
      " The string is not palindrome\n"
     ]
    }
   ],
   "source": [
    "str_1= input(\" enter the string=\")\n",
    "str_1=str_1.casefold()\n",
    "rev_str= reversed (str_1)\n",
    "if list (str_1)== list(rev_str):\n",
    "    print(\" the string is palindrome\")\n",
    "else:\n",
    "    print(\" The string is not palindrome\")"
   ]
  },
  {
   "cell_type": "markdown",
   "id": "55760a1e",
   "metadata": {},
   "source": [
    "frequency of each of the characters present in a given string."
   ]
  },
  {
   "cell_type": "code",
   "execution_count": 16,
   "id": "b8016abc",
   "metadata": {},
   "outputs": [
    {
     "name": "stdout",
     "output_type": "stream",
     "text": [
      "enter stringsapana\n",
      "{'s': 1, 'a': 3, 'p': 1, 'n': 1}\n"
     ]
    }
   ],
   "source": [
    "str = input(\"enter string=\")\n",
    "a={}\n",
    "for i in str:\n",
    "    if i in a:\n",
    "        a[i] += 1\n",
    "    else:\n",
    "        a[i] =1\n",
    "print(a)"
   ]
  }
 ],
 "metadata": {
  "kernelspec": {
   "display_name": "Python 3 (ipykernel)",
   "language": "python",
   "name": "python3"
  },
  "language_info": {
   "codemirror_mode": {
    "name": "ipython",
    "version": 3
   },
   "file_extension": ".py",
   "mimetype": "text/x-python",
   "name": "python",
   "nbconvert_exporter": "python",
   "pygments_lexer": "ipython3",
   "version": "3.9.7"
  }
 },
 "nbformat": 4,
 "nbformat_minor": 5
}
